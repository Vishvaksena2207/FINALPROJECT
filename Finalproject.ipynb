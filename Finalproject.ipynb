{
  "nbformat": 4,
  "nbformat_minor": 0,
  "metadata": {
    "colab": {
      "provenance": []
    },
    "kernelspec": {
      "name": "python3",
      "display_name": "Python 3"
    },
    "language_info": {
      "name": "python"
    }
  },
  "cells": [
    {
      "cell_type": "code",
      "execution_count": null,
      "metadata": {
        "id": "zdK5R7ywOLh_"
      },
      "outputs": [],
      "source": [
        "+import numpy as np\n",
        "import pandas as pd\n",
        "import matplotlib.pyplot as plt\n",
        "from sklearn.model_selection import train_test_split\n",
        "from sklearn import metrics"
      ]
    },
    {
      "cell_type": "code",
      "source": [
        "calories=pd.read_csv('/content/calories.csv')\n",
        "print(calories)"
      ],
      "metadata": {
        "colab": {
          "base_uri": "https://localhost:8080/"
        },
        "id": "Fdy-XoNuT-u-",
        "outputId": "2a628a56-e8e9-4aa0-a1ea-5a02963ceff7"
      },
      "execution_count": null,
      "outputs": [
        {
          "output_type": "stream",
          "name": "stdout",
          "text": [
            "        User_ID  Calories\n",
            "0      14733363     231.0\n",
            "1      14861698      66.0\n",
            "2      11179863      26.0\n",
            "3      16180408      71.0\n",
            "4      17771927      35.0\n",
            "...         ...       ...\n",
            "14995  15644082      45.0\n",
            "14996  17212577      23.0\n",
            "14997  17271188      75.0\n",
            "14998  18643037      11.0\n",
            "14999  11751526      98.0\n",
            "\n",
            "[15000 rows x 2 columns]\n"
          ]
        }
      ]
    },
    {
      "cell_type": "code",
      "source": [
        "exercise_data = pd.read_csv('/content/exercise.csv')\n",
        "print(exercise_data )"
      ],
      "metadata": {
        "colab": {
          "base_uri": "https://localhost:8080/"
        },
        "id": "8aOxAINDUGho",
        "outputId": "ac42ecf7-7000-4857-9fae-c3cd5637db1f"
      },
      "execution_count": null,
      "outputs": [
        {
          "output_type": "stream",
          "name": "stdout",
          "text": [
            "        User_ID  Gender  Age  Height  Weight  Duration  Heart_Rate  Body_Temp\n",
            "0      14733363    male   68   190.0    94.0      29.0       105.0       40.8\n",
            "1      14861698  female   20   166.0    60.0      14.0        94.0       40.3\n",
            "2      11179863    male   69   179.0    79.0       5.0        88.0       38.7\n",
            "3      16180408  female   34   179.0    71.0      13.0       100.0       40.5\n",
            "4      17771927  female   27   154.0    58.0      10.0        81.0       39.8\n",
            "...         ...     ...  ...     ...     ...       ...         ...        ...\n",
            "14995  15644082  female   20   193.0    86.0      11.0        92.0       40.4\n",
            "14996  17212577  female   27   165.0    65.0       6.0        85.0       39.2\n",
            "14997  17271188  female   43   159.0    58.0      16.0        90.0       40.1\n",
            "14998  18643037    male   78   193.0    97.0       2.0        84.0       38.3\n",
            "14999  11751526    male   63   173.0    79.0      18.0        92.0       40.5\n",
            "\n",
            "[15000 rows x 8 columns]\n"
          ]
        }
      ]
    },
    {
      "cell_type": "code",
      "source": [
        "calories_data = pd.concat([exercise_data, calories['Calories']], axis=1)\n",
        "print(calories_data)"
      ],
      "metadata": {
        "colab": {
          "base_uri": "https://localhost:8080/"
        },
        "id": "UCRco1m5URFX",
        "outputId": "eb5c7591-6619-43bc-fa30-2d1f679ec27a"
      },
      "execution_count": null,
      "outputs": [
        {
          "output_type": "stream",
          "name": "stdout",
          "text": [
            "        User_ID  Gender  Age  Height  Weight  Duration  Heart_Rate  Body_Temp  \\\n",
            "0      14733363    male   68   190.0    94.0      29.0       105.0       40.8   \n",
            "1      14861698  female   20   166.0    60.0      14.0        94.0       40.3   \n",
            "2      11179863    male   69   179.0    79.0       5.0        88.0       38.7   \n",
            "3      16180408  female   34   179.0    71.0      13.0       100.0       40.5   \n",
            "4      17771927  female   27   154.0    58.0      10.0        81.0       39.8   \n",
            "...         ...     ...  ...     ...     ...       ...         ...        ...   \n",
            "14995  15644082  female   20   193.0    86.0      11.0        92.0       40.4   \n",
            "14996  17212577  female   27   165.0    65.0       6.0        85.0       39.2   \n",
            "14997  17271188  female   43   159.0    58.0      16.0        90.0       40.1   \n",
            "14998  18643037    male   78   193.0    97.0       2.0        84.0       38.3   \n",
            "14999  11751526    male   63   173.0    79.0      18.0        92.0       40.5   \n",
            "\n",
            "       Calories  \n",
            "0         231.0  \n",
            "1          66.0  \n",
            "2          26.0  \n",
            "3          71.0  \n",
            "4          35.0  \n",
            "...         ...  \n",
            "14995      45.0  \n",
            "14996      23.0  \n",
            "14997      75.0  \n",
            "14998      11.0  \n",
            "14999      98.0  \n",
            "\n",
            "[15000 rows x 9 columns]\n"
          ]
        }
      ]
    },
    {
      "cell_type": "code",
      "source": [
        "x1=calories_data['Gender']\n",
        "y=calories_data['Calories']\n",
        "plt.bar(x1,y)"
      ],
      "metadata": {
        "colab": {
          "base_uri": "https://localhost:8080/",
          "height": 448
        },
        "id": "mcPwwffXUUhU",
        "outputId": "a663ef19-9dcb-4730-f2dc-afdc688c54fc"
      },
      "execution_count": null,
      "outputs": [
        {
          "output_type": "execute_result",
          "data": {
            "text/plain": [
              "<BarContainer object of 15000 artists>"
            ]
          },
          "metadata": {},
          "execution_count": 6
        },
        {
          "output_type": "display_data",
          "data": {
            "text/plain": [
              "<Figure size 640x480 with 1 Axes>"
            ],
            "image/png": "[encoded data removed]"
          },
          "metadata": {}
        }
      ]
    },
    {
      "cell_type": "code",
      "source": [
        "calories_data.replace({\"Gender\":{'male':0,'female':1}}, inplace=True)\n",
        "print(calories_data)"
      ],
      "metadata": {
        "colab": {
          "base_uri": "https://localhost:8080/"
        },
        "id": "ANAf_JZ6UYXd",
        "outputId": "adcd5a3c-476b-4d9a-fd9a-f3d31708fca7"
      },
      "execution_count": null,
      "outputs": [
        {
          "output_type": "stream",
          "name": "stdout",
          "text": [
            "        User_ID  Gender  Age  Height  Weight  Duration  Heart_Rate  Body_Temp  \\\n",
            "0      14733363       0   68   190.0    94.0      29.0       105.0       40.8   \n",
            "1      14861698       1   20   166.0    60.0      14.0        94.0       40.3   \n",
            "2      11179863       0   69   179.0    79.0       5.0        88.0       38.7   \n",
            "3      16180408       1   34   179.0    71.0      13.0       100.0       40.5   \n",
            "4      17771927       1   27   154.0    58.0      10.0        81.0       39.8   \n",
            "...         ...     ...  ...     ...     ...       ...         ...        ...   \n",
            "14995  15644082       1   20   193.0    86.0      11.0        92.0       40.4   \n",
            "14996  17212577       1   27   165.0    65.0       6.0        85.0       39.2   \n",
            "14997  17271188       1   43   159.0    58.0      16.0        90.0       40.1   \n",
            "14998  18643037       0   78   193.0    97.0       2.0        84.0       38.3   \n",
            "14999  11751526       0   63   173.0    79.0      18.0        92.0       40.5   \n",
            "\n",
            "       Calories  \n",
            "0         231.0  \n",
            "1          66.0  \n",
            "2          26.0  \n",
            "3          71.0  \n",
            "4          35.0  \n",
            "...         ...  \n",
            "14995      45.0  \n",
            "14996      23.0  \n",
            "14997      75.0  \n",
            "14998      11.0  \n",
            "14999      98.0  \n",
            "\n",
            "[15000 rows x 9 columns]\n"
          ]
        }
      ]
    },
    {
      "cell_type": "code",
      "source": [
        "X = calories_data.drop(columns=['User_ID','Calories'], axis=1)\n",
        "Y = calories_data['Calories']\n",
        "print(X)"
      ],
      "metadata": {
        "colab": {
          "base_uri": "https://localhost:8080/"
        },
        "id": "9Hi7gj5SUg9Y",
        "outputId": "951611fc-1915-4e41-f5ea-81d0e65ff987"
      },
      "execution_count": null,
      "outputs": [
        {
          "output_type": "stream",
          "name": "stdout",
          "text": [
            "       Gender  Age  Height  Weight  Duration  Heart_Rate  Body_Temp\n",
            "0           0   68   190.0    94.0      29.0       105.0       40.8\n",
            "1           1   20   166.0    60.0      14.0        94.0       40.3\n",
            "2           0   69   179.0    79.0       5.0        88.0       38.7\n",
            "3           1   34   179.0    71.0      13.0       100.0       40.5\n",
            "4           1   27   154.0    58.0      10.0        81.0       39.8\n",
            "...       ...  ...     ...     ...       ...         ...        ...\n",
            "14995       1   20   193.0    86.0      11.0        92.0       40.4\n",
            "14996       1   27   165.0    65.0       6.0        85.0       39.2\n",
            "14997       1   43   159.0    58.0      16.0        90.0       40.1\n",
            "14998       0   78   193.0    97.0       2.0        84.0       38.3\n",
            "14999       0   63   173.0    79.0      18.0        92.0       40.5\n",
            "\n",
            "[15000 rows x 7 columns]\n"
          ]
        }
      ]
    },
    {
      "cell_type": "code",
      "source": [
        "print(Y)"
      ],
      "metadata": {
        "colab": {
          "base_uri": "https://localhost:8080/"
        },
        "id": "Vn0evdEtUqEs",
        "outputId": "e4eb1321-4630-4dc8-c988-eafc61e5c516"
      },
      "execution_count": null,
      "outputs": [
        {
          "output_type": "stream",
          "name": "stdout",
          "text": [
            "0        231.0\n",
            "1         66.0\n",
            "2         26.0\n",
            "3         71.0\n",
            "4         35.0\n",
            "         ...  \n",
            "14995     45.0\n",
            "14996     23.0\n",
            "14997     75.0\n",
            "14998     11.0\n",
            "14999     98.0\n",
            "Name: Calories, Length: 15000, dtype: float64\n"
          ]
        }
      ]
    },
    {
      "cell_type": "code",
      "source": [
        "X_train, X_test, Y_train, Y_test = train_test_split(X, Y, test_size=0.2, random_state=2)\n",
        "print(X.shape, X_train.shape, X_test.shape)"
      ],
      "metadata": {
        "colab": {
          "base_uri": "https://localhost:8080/"
        },
        "id": "Vqs5Gx2EUugu",
        "outputId": "e6f4e363-cc7e-4d04-d142-c740bf3772c8"
      },
      "execution_count": null,
      "outputs": [
        {
          "output_type": "stream",
          "name": "stdout",
          "text": [
            "(15000, 7) (12000, 7) (3000, 7)\n"
          ]
        }
      ]
    },
    {
      "cell_type": "code",
      "source": [
        "import numpy as np\n",
        "from sklearn.linear_model import LinearRegression\n",
        "import matplotlib.pyplot as plt\n",
        "from sklearn.metrics import mean_squared_error"
      ],
      "metadata": {
        "id": "foae2t7nVVxS"
      },
      "execution_count": null,
      "outputs": []
    },
    {
      "cell_type": "code",
      "source": [
        "model = LinearRegression()\n",
        "model.fit(X_train, y_train)\n",
        "y_pred = model.predict(X_test)\n",
        "mse = mean_squared_error(y_test, y_pred)\n",
        "print(\"Mean Squared Error:\", mse)\n"
      ],
      "metadata": {
        "colab": {
          "base_uri": "https://localhost:8080/"
        },
        "id": "ShGZzq0EWc5j",
        "outputId": "fe5d92a9-c65e-4035-a08a-8b3ac12e14f9"
      },
      "execution_count": null,
      "outputs": [
        {
          "output_type": "stream",
          "name": "stdout",
          "text": [
            "Mean Squared Error: 0.06606897290334093\n"
          ]
        }
      ]
    },
    {
      "cell_type": "code",
      "source": [
        "import numpy as np\n",
        "from sklearn.model_selection import train_test_split\n",
        "from sklearn.svm import SVR\n",
        "from sklearn.metrics import mean_squared_error\n",
        "\n",
        "model = SVR(kernel='linear')\n",
        "\n",
        "model.fit(X_train, y_train.ravel())  # .ravel() is used to convert y_train to a 1D array\n",
        "y_pred = model.predict(X_test)\n",
        "\n",
        "mse = mean_squared_error(y_test, y_pred)\n",
        "print(\"Mean Squared Error:\", mse)"
      ],
      "metadata": {
        "colab": {
          "base_uri": "https://localhost:8080/"
        },
        "id": "tXbcpxYKUlAb",
        "outputId": "34fc3c63-4d9f-49b9-9f4f-3818c04a6864"
      },
      "execution_count": null,
      "outputs": [
        {
          "output_type": "stream",
          "name": "stdout",
          "text": [
            "Mean Squared Error: 0.06678272885915795\n"
          ]
        }
      ]
    },
    {
      "cell_type": "code",
      "source": [
        "import numpy as np\n",
        "from sklearn.model_selection import train_test_split\n",
        "from sklearn.linear_model import Lasso\n",
        "from sklearn.metrics import mean_squared_error\n",
        "\n",
        "alpha = 0.1\n",
        "model = Lasso(alpha=alpha)\n",
        "model.fit(X_train, y_train)\n",
        "y_pred = model.predict(X_test)\n",
        "mse = mean_squared_error(y_test, y_pred)\n",
        "print(\"Mean Squared Error:\", mse)\n"
      ],
      "metadata": {
        "colab": {
          "base_uri": "https://localhost:8080/"
        },
        "id": "mUW7J9XWaaCa",
        "outputId": "64bb3276-c3f0-4763-ef77-4d7374733ec4"
      },
      "execution_count": null,
      "outputs": [
        {
          "output_type": "stream",
          "name": "stdout",
          "text": [
            "Mean Squared Error: 0.08385658483591739\n"
          ]
        }
      ]
    },
    {
      "cell_type": "code",
      "source": [
        "import numpy as np\n",
        "from sklearn.model_selection import train_test_split\n",
        "from sklearn.linear_model import Ridge\n",
        "from sklearn.metrics import mean_squared_error\n",
        "# Create a Ridge regression model\n",
        "alpha = 1.0\n",
        "model = Ridge(alpha=alpha)\n",
        "model.fit(X_train, y_train)\n",
        "y_pred = model.predict(X_test)\n",
        "mse = mean_squared_error(y_test, y_pred)\n",
        "print(\"Mean Squared Error:\", mse)"
      ],
      "metadata": {
        "colab": {
          "base_uri": "https://localhost:8080/"
        },
        "id": "cxGkCv_ka1nH",
        "outputId": "4f893d7a-b7f4-457a-94cf-222bd53389e9"
      },
      "execution_count": null,
      "outputs": [
        {
          "output_type": "stream",
          "name": "stdout",
          "text": [
            "Mean Squared Error: 0.06820871183853372\n"
          ]
        }
      ]
    },
    {
      "cell_type": "code",
      "source": [
        "import numpy as np\n",
        "from sklearn.model_selection import train_test_split\n",
        "from sklearn.neighbors import KNeighborsRegressor\n",
        "from sklearn.metrics import mean_squared_error\n",
        "\n",
        "knn_model = KNeighborsRegressor(n_neighbors=5)\n",
        "knn_model.fit(X_train, y_train)\n",
        "y_pred = knn_model.predict(X_test)\n",
        "\n",
        "mse = mean_squared_error(y_test, y_pred)\n",
        "print(\"Mean Squared Error:\", mse)"
      ],
      "metadata": {
        "colab": {
          "base_uri": "https://localhost:8080/"
        },
        "id": "wax2ZbVnbcBu",
        "outputId": "40df7da0-301e-41d8-ecdd-aed5cb27033d"
      },
      "execution_count": null,
      "outputs": [
        {
          "output_type": "stream",
          "name": "stdout",
          "text": [
            "Mean Squared Error: 0.11995110942027856\n"
          ]
        }
      ]
    }
  ]
}